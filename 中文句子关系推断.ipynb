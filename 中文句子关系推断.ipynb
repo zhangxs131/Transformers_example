{
  "nbformat": 4,
  "nbformat_minor": 0,
  "metadata": {
    "colab": {
      "name": "中文句子关系推断.ipynb",
      "provenance": [],
      "authorship_tag": "ABX9TyM/pKNyKFHaX+D0F4Gnp0Xe",
      "include_colab_link": true
    },
    "kernelspec": {
      "name": "python3",
      "display_name": "Python 3"
    },
    "language_info": {
      "name": "python"
    },
    "accelerator": "GPU"
  },
  "cells": [
    {
      "cell_type": "markdown",
      "metadata": {
        "id": "view-in-github",
        "colab_type": "text"
      },
      "source": [
        "<a href=\"https://colab.research.google.com/github/zhangxs131/Transformers_example/blob/main/%E4%B8%AD%E6%96%87%E5%8F%A5%E5%AD%90%E5%85%B3%E7%B3%BB%E6%8E%A8%E6%96%AD.ipynb\" target=\"_parent\"><img src=\"https://colab.research.google.com/assets/colab-badge.svg\" alt=\"Open In Colab\"/></a>"
      ]
    },
    {
      "cell_type": "markdown",
      "source": [
        "#中文句子关系推动\n",
        "\n",
        "*   model bert-base-chinese\n",
        "*   dataset ChnSentiCorp中把文本截取40长度，[:20] [20:] 为两个句子作为训练集"
      ],
      "metadata": {
        "id": "yDlfLT8XCp7y"
      }
    },
    {
      "cell_type": "code",
      "source": [
        "!pip install transformers \n",
        "!pip install datasets"
      ],
      "metadata": {
        "colab": {
          "base_uri": "https://localhost:8080/"
        },
        "id": "42oUZvVBDEMk",
        "outputId": "4d7c425e-a309-4664-ad3a-ed737807ec55"
      },
      "execution_count": 2,
      "outputs": [
        {
          "output_type": "stream",
          "name": "stdout",
          "text": [
            "Requirement already satisfied: transformers in /usr/local/lib/python3.7/dist-packages (4.16.2)\n",
            "Requirement already satisfied: filelock in /usr/local/lib/python3.7/dist-packages (from transformers) (3.4.2)\n",
            "Requirement already satisfied: requests in /usr/local/lib/python3.7/dist-packages (from transformers) (2.23.0)\n",
            "Requirement already satisfied: packaging>=20.0 in /usr/local/lib/python3.7/dist-packages (from transformers) (21.3)\n",
            "Requirement already satisfied: regex!=2019.12.17 in /usr/local/lib/python3.7/dist-packages (from transformers) (2019.12.20)\n",
            "Requirement already satisfied: pyyaml>=5.1 in /usr/local/lib/python3.7/dist-packages (from transformers) (6.0)\n",
            "Requirement already satisfied: sacremoses in /usr/local/lib/python3.7/dist-packages (from transformers) (0.0.47)\n",
            "Requirement already satisfied: tokenizers!=0.11.3,>=0.10.1 in /usr/local/lib/python3.7/dist-packages (from transformers) (0.11.4)\n",
            "Requirement already satisfied: importlib-metadata in /usr/local/lib/python3.7/dist-packages (from transformers) (4.10.1)\n",
            "Requirement already satisfied: huggingface-hub<1.0,>=0.1.0 in /usr/local/lib/python3.7/dist-packages (from transformers) (0.4.0)\n",
            "Requirement already satisfied: numpy>=1.17 in /usr/local/lib/python3.7/dist-packages (from transformers) (1.19.5)\n",
            "Requirement already satisfied: tqdm>=4.27 in /usr/local/lib/python3.7/dist-packages (from transformers) (4.62.3)\n",
            "Requirement already satisfied: typing-extensions>=3.7.4.3 in /usr/local/lib/python3.7/dist-packages (from huggingface-hub<1.0,>=0.1.0->transformers) (3.10.0.2)\n",
            "Requirement already satisfied: pyparsing!=3.0.5,>=2.0.2 in /usr/local/lib/python3.7/dist-packages (from packaging>=20.0->transformers) (3.0.7)\n",
            "Requirement already satisfied: zipp>=0.5 in /usr/local/lib/python3.7/dist-packages (from importlib-metadata->transformers) (3.7.0)\n",
            "Requirement already satisfied: urllib3!=1.25.0,!=1.25.1,<1.26,>=1.21.1 in /usr/local/lib/python3.7/dist-packages (from requests->transformers) (1.24.3)\n",
            "Requirement already satisfied: idna<3,>=2.5 in /usr/local/lib/python3.7/dist-packages (from requests->transformers) (2.10)\n",
            "Requirement already satisfied: chardet<4,>=3.0.2 in /usr/local/lib/python3.7/dist-packages (from requests->transformers) (3.0.4)\n",
            "Requirement already satisfied: certifi>=2017.4.17 in /usr/local/lib/python3.7/dist-packages (from requests->transformers) (2021.10.8)\n",
            "Requirement already satisfied: joblib in /usr/local/lib/python3.7/dist-packages (from sacremoses->transformers) (1.1.0)\n",
            "Requirement already satisfied: six in /usr/local/lib/python3.7/dist-packages (from sacremoses->transformers) (1.15.0)\n",
            "Requirement already satisfied: click in /usr/local/lib/python3.7/dist-packages (from sacremoses->transformers) (7.1.2)\n",
            "Requirement already satisfied: datasets in /usr/local/lib/python3.7/dist-packages (1.18.3)\n",
            "Requirement already satisfied: aiohttp in /usr/local/lib/python3.7/dist-packages (from datasets) (3.8.1)\n",
            "Requirement already satisfied: pyarrow!=4.0.0,>=3.0.0 in /usr/local/lib/python3.7/dist-packages (from datasets) (6.0.1)\n",
            "Requirement already satisfied: dill in /usr/local/lib/python3.7/dist-packages (from datasets) (0.3.4)\n",
            "Requirement already satisfied: multiprocess in /usr/local/lib/python3.7/dist-packages (from datasets) (0.70.12.2)\n",
            "Requirement already satisfied: numpy>=1.17 in /usr/local/lib/python3.7/dist-packages (from datasets) (1.19.5)\n",
            "Requirement already satisfied: xxhash in /usr/local/lib/python3.7/dist-packages (from datasets) (2.0.2)\n",
            "Requirement already satisfied: fsspec[http]>=2021.05.0 in /usr/local/lib/python3.7/dist-packages (from datasets) (2022.1.0)\n",
            "Requirement already satisfied: packaging in /usr/local/lib/python3.7/dist-packages (from datasets) (21.3)\n",
            "Requirement already satisfied: huggingface-hub<1.0.0,>=0.1.0 in /usr/local/lib/python3.7/dist-packages (from datasets) (0.4.0)\n",
            "Requirement already satisfied: requests>=2.19.0 in /usr/local/lib/python3.7/dist-packages (from datasets) (2.23.0)\n",
            "Requirement already satisfied: pandas in /usr/local/lib/python3.7/dist-packages (from datasets) (1.3.5)\n",
            "Requirement already satisfied: tqdm>=4.62.1 in /usr/local/lib/python3.7/dist-packages (from datasets) (4.62.3)\n",
            "Requirement already satisfied: importlib-metadata in /usr/local/lib/python3.7/dist-packages (from datasets) (4.10.1)\n",
            "Requirement already satisfied: filelock in /usr/local/lib/python3.7/dist-packages (from huggingface-hub<1.0.0,>=0.1.0->datasets) (3.4.2)\n",
            "Requirement already satisfied: pyyaml in /usr/local/lib/python3.7/dist-packages (from huggingface-hub<1.0.0,>=0.1.0->datasets) (6.0)\n",
            "Requirement already satisfied: typing-extensions>=3.7.4.3 in /usr/local/lib/python3.7/dist-packages (from huggingface-hub<1.0.0,>=0.1.0->datasets) (3.10.0.2)\n",
            "Requirement already satisfied: pyparsing!=3.0.5,>=2.0.2 in /usr/local/lib/python3.7/dist-packages (from packaging->datasets) (3.0.7)\n",
            "Requirement already satisfied: idna<3,>=2.5 in /usr/local/lib/python3.7/dist-packages (from requests>=2.19.0->datasets) (2.10)\n",
            "Requirement already satisfied: chardet<4,>=3.0.2 in /usr/local/lib/python3.7/dist-packages (from requests>=2.19.0->datasets) (3.0.4)\n",
            "Requirement already satisfied: certifi>=2017.4.17 in /usr/local/lib/python3.7/dist-packages (from requests>=2.19.0->datasets) (2021.10.8)\n",
            "Requirement already satisfied: urllib3!=1.25.0,!=1.25.1,<1.26,>=1.21.1 in /usr/local/lib/python3.7/dist-packages (from requests>=2.19.0->datasets) (1.24.3)\n",
            "Requirement already satisfied: aiosignal>=1.1.2 in /usr/local/lib/python3.7/dist-packages (from aiohttp->datasets) (1.2.0)\n",
            "Requirement already satisfied: yarl<2.0,>=1.0 in /usr/local/lib/python3.7/dist-packages (from aiohttp->datasets) (1.7.2)\n",
            "Requirement already satisfied: asynctest==0.13.0 in /usr/local/lib/python3.7/dist-packages (from aiohttp->datasets) (0.13.0)\n",
            "Requirement already satisfied: frozenlist>=1.1.1 in /usr/local/lib/python3.7/dist-packages (from aiohttp->datasets) (1.3.0)\n",
            "Requirement already satisfied: charset-normalizer<3.0,>=2.0 in /usr/local/lib/python3.7/dist-packages (from aiohttp->datasets) (2.0.11)\n",
            "Requirement already satisfied: multidict<7.0,>=4.5 in /usr/local/lib/python3.7/dist-packages (from aiohttp->datasets) (6.0.2)\n",
            "Requirement already satisfied: async-timeout<5.0,>=4.0.0a3 in /usr/local/lib/python3.7/dist-packages (from aiohttp->datasets) (4.0.2)\n",
            "Requirement already satisfied: attrs>=17.3.0 in /usr/local/lib/python3.7/dist-packages (from aiohttp->datasets) (21.4.0)\n",
            "Requirement already satisfied: zipp>=0.5 in /usr/local/lib/python3.7/dist-packages (from importlib-metadata->datasets) (3.7.0)\n",
            "Requirement already satisfied: python-dateutil>=2.7.3 in /usr/local/lib/python3.7/dist-packages (from pandas->datasets) (2.8.2)\n",
            "Requirement already satisfied: pytz>=2017.3 in /usr/local/lib/python3.7/dist-packages (from pandas->datasets) (2018.9)\n",
            "Requirement already satisfied: six>=1.5 in /usr/local/lib/python3.7/dist-packages (from python-dateutil>=2.7.3->pandas->datasets) (1.15.0)\n"
          ]
        }
      ]
    },
    {
      "cell_type": "code",
      "source": [
        "#加载数据集\n",
        "import torch.nn as nn\n",
        "from torch.utils.data import Dataset,DataLoader\n",
        "import torch\n",
        "from datasets import load_dataset\n",
        "from transformers import BertTokenizer,BertModel\n",
        "import random\n",
        "import transformers\n",
        "transformers.logging.set_verbosity_error()\n",
        "\n",
        "\n",
        "class SentiDataset(Dataset):\n",
        "  def __init__(self,split):\n",
        "    super().__init__()\n",
        "    self.dataset=load_dataset(path='seamew/ChnSentiCorp',split=split)\n",
        "    def fn(data):\n",
        "      return len(data['text'])>40\n",
        "    self.dataset.filter(fn)\n",
        "\n",
        "  def __len__(self):\n",
        "    return len(self.dataset)\n",
        "\n",
        "  def __getitem__(self,i):\n",
        "\n",
        "    sent1=self.dataset[i]['text'][:20]\n",
        "    sent2=self.dataset[i]['text'][20:]\n",
        "    label=1\n",
        "\n",
        "    if random.randint(0,1)==0:\n",
        "      j=random.randint(0,len(self.dataset)-1)\n",
        "      sent2=self.dataset[j]['text'][20:]\n",
        "      label=0\n",
        "\n",
        "    return sent1,sent2,label\n",
        "\n",
        "\n",
        "\n",
        "    return self.dataset[i]['text']\n",
        "\n",
        "tokenizer=BertTokenizer.from_pretrained('bert-base-chinese')\n",
        "\n",
        "def collate_fn(data):\n",
        "  sents=[i[:2] for i in data]\n",
        "  labels=[i[2] for i in data]\n",
        "\n",
        "  data=tokenizer.batch_encode_plus(batch_text_or_text_pairs=sents,\n",
        "                  truncation=True,\n",
        "                  padding='max_length',\n",
        "                  max_length=45,\n",
        "                  return_tensors='pt',\n",
        "                  return_length='True',\n",
        "                  add_special_tokens=True)\n",
        "  labels=torch.LongTensor(labels)\n",
        "  return data['input_ids'],data['attention_mask'],data['token_type_ids'],labels\n",
        "\n",
        "dataloader=DataLoader(dataset=SentiDataset('train'),\n",
        "           batch_size=16,\n",
        "           shuffle=True,\n",
        "           collate_fn=collate_fn,\n",
        "           drop_last=True)\n",
        "\n",
        "for i ,(input_ids,attention_mask,token_type_ids,labels) in enumerate(dataloader):\n",
        "  break\n",
        "\n",
        "print(tokenizer.decode(input_ids[0]))\n",
        "print(labels[0])"
      ],
      "metadata": {
        "id": "_zwXoSQnDIV0",
        "colab": {
          "base_uri": "https://localhost:8080/"
        },
        "outputId": "6866baf6-e2d1-44e3-a47d-440508fe64ae"
      },
      "execution_count": 23,
      "outputs": [
        {
          "output_type": "stream",
          "name": "stderr",
          "text": [
            "Using custom data configuration default\n",
            "Reusing dataset chn_senti_corp (/root/.cache/huggingface/datasets/seamew___chn_senti_corp/default/0.0.0/1f242195a37831906957a11a2985a4329167e60657c07dc95ebe266c03fdfb85)\n",
            "Loading cached processed dataset at /root/.cache/huggingface/datasets/seamew___chn_senti_corp/default/0.0.0/1f242195a37831906957a11a2985a4329167e60657c07dc95ebe266c03fdfb85/cache-4df94ee7a91f1822.arrow\n"
          ]
        },
        {
          "output_type": "stream",
          "name": "stdout",
          "text": [
            "[CLS] 缺 点 ： 房 间 比 较 老 旧 ， 电 梯 果 然 如 网 友 评 价 非 [SEP] 较 困 难 ， 因 为 [UNK] 盘 芯 片 驱 动 比 较 怪 。 [SEP] [PAD] [PAD] [PAD] [PAD] [PAD] [PAD]\n",
            "tensor(0)\n"
          ]
        }
      ]
    },
    {
      "cell_type": "code",
      "source": [
        "#模型\n",
        "from transformers import AdamW\n",
        "pre=BertModel.from_pretrained('bert-base-chinese')\n",
        "\n",
        "\n",
        "for param in pre.parameters():\n",
        "  param.requires_grad_(False)\n",
        "\n",
        "class Model(torch.nn.Module):\n",
        "  def __init__(self):\n",
        "    super().__init__()\n",
        "    self.fc=torch.nn.Linear(768,2)\n",
        "\n",
        "  def forward(self,input_ids,attention_mask,token_type_ids,device):\n",
        "    with torch.no_grad():\n",
        "      pre.to(device)\n",
        "      out=pre(input_ids,attention_mask,token_type_ids)\n",
        "\n",
        "    out=self.fc(out.last_hidden_state[:,0])\n",
        "    out=out.softmax(dim=1)\n",
        "    return out\n",
        "\n",
        "model=Model()\n",
        "optimizer=AdamW(model.parameters(),lr=5e-4)\n",
        "criterion=torch.nn.CrossEntropyLoss()\n",
        "device='cuda' if torch.cuda.is_available() else 'cpu'\n",
        "\n",
        "def test(epoch):\n",
        "  total=0\n",
        "  correct=0\n",
        "\n",
        "  test_loader=DataLoader(dataset=SentiDataset('validation'),\n",
        "             batch_size=32,\n",
        "             collate_fn=collate_fn,\n",
        "             drop_last=True)\n",
        "\n",
        "  model.eval().to(device)\n",
        "  with torch.no_grad():\n",
        "    for i ,(input_ids,attention_mask,token_type_ids,labels) in enumerate(test_loader):\n",
        "      input_ids=input_ids.to(device)\n",
        "      attention_mask=attention_mask.to(device)\n",
        "      token_type_ids=token_type_ids.to(device)\n",
        "      labels=labels.to(device)\n",
        "\n",
        "      out=model(input_ids,attention_mask,token_type_ids,device)\n",
        "      out=out.argmax(dim=1)\n",
        "      total+=len(labels)\n",
        "      correct+=(out==labels).sum().item()\n",
        "\n",
        "  print('Epoch {} Accuarcy {}'.format(epoch,correct/total))\n",
        "\n",
        "def train(Epochs):\n",
        "  for epoch in range(Epochs):\n",
        "    model.train().to(device)\n",
        "    \n",
        "    for i ,(input_ids,attention_mask,token_type_ids,labels) in enumerate(dataloader):\n",
        "      input_ids=input_ids.to(device)\n",
        "      attention_mask=attention_mask.to(device)\n",
        "      token_type_ids=token_type_ids.to(device)\n",
        "      labels=labels.to(device)\n",
        "\n",
        "      out=model(input_ids,attention_mask,token_type_ids,device)\n",
        "\n",
        "      loss=criterion(out,labels)\n",
        "      loss.backward()\n",
        "      optimizer.step()\n",
        "      optimizer.zero_grad()\n",
        "\n",
        "      if i%50==0:\n",
        "        out=out.argmax(dim=1)\n",
        "        accuarcay=(out==labels).sum().item()/len(labels)\n",
        "\n",
        "        print('Epoch {} Step {}, Loss {} Accuarcy {}'.format(epoch+1,i,loss.item(),accuarcay))\n",
        "\n",
        "    test(epoch+1)\n",
        "#训练3轮\n",
        "train(3)"
      ],
      "metadata": {
        "colab": {
          "base_uri": "https://localhost:8080/"
        },
        "id": "lwmqYL2gJY9T",
        "outputId": "f7fa7404-26f7-47d5-cef6-d7a0198d7362"
      },
      "execution_count": 26,
      "outputs": [
        {
          "output_type": "stream",
          "name": "stderr",
          "text": [
            "/usr/local/lib/python3.7/dist-packages/transformers/optimization.py:309: FutureWarning: This implementation of AdamW is deprecated and will be removed in a future version. Use thePyTorch implementation torch.optim.AdamW instead, or set `no_deprecation_warning=True` to disable this warning\n",
            "  FutureWarning,\n"
          ]
        },
        {
          "output_type": "stream",
          "name": "stdout",
          "text": [
            "Epoch 1 Step 0, Loss 0.6742010116577148 Accuarcy 0.5625\n",
            "Epoch 1 Step 50, Loss 0.5527991652488708 Accuarcy 0.6875\n",
            "Epoch 1 Step 100, Loss 0.3861014246940613 Accuarcy 0.9375\n",
            "Epoch 1 Step 150, Loss 0.5343166589736938 Accuarcy 0.8125\n",
            "Epoch 1 Step 200, Loss 0.3891306221485138 Accuarcy 0.9375\n",
            "Epoch 1 Step 250, Loss 0.3943360149860382 Accuarcy 0.9375\n",
            "Epoch 1 Step 300, Loss 0.3377110958099365 Accuarcy 1.0\n",
            "Epoch 1 Step 350, Loss 0.4379882514476776 Accuarcy 0.875\n",
            "Epoch 1 Step 400, Loss 0.3516303300857544 Accuarcy 0.9375\n",
            "Epoch 1 Step 450, Loss 0.6172651052474976 Accuarcy 0.6875\n",
            "Epoch 1 Step 500, Loss 0.4706061780452728 Accuarcy 0.875\n",
            "Epoch 1 Step 550, Loss 0.4764832854270935 Accuarcy 0.875\n"
          ]
        },
        {
          "output_type": "stream",
          "name": "stderr",
          "text": [
            "Using custom data configuration default\n",
            "Reusing dataset chn_senti_corp (/root/.cache/huggingface/datasets/seamew___chn_senti_corp/default/0.0.0/1f242195a37831906957a11a2985a4329167e60657c07dc95ebe266c03fdfb85)\n",
            "Loading cached processed dataset at /root/.cache/huggingface/datasets/seamew___chn_senti_corp/default/0.0.0/1f242195a37831906957a11a2985a4329167e60657c07dc95ebe266c03fdfb85/cache-04e37f05838e9029.arrow\n"
          ]
        },
        {
          "output_type": "stream",
          "name": "stdout",
          "text": [
            "Epoch 1 Accuarcy 0.8648648648648649\n",
            "Epoch 2 Step 0, Loss 0.42543506622314453 Accuarcy 0.875\n",
            "Epoch 2 Step 50, Loss 0.32489830255508423 Accuarcy 1.0\n",
            "Epoch 2 Step 100, Loss 0.4281346797943115 Accuarcy 0.9375\n",
            "Epoch 2 Step 150, Loss 0.4291769862174988 Accuarcy 0.875\n",
            "Epoch 2 Step 200, Loss 0.5301893353462219 Accuarcy 0.75\n",
            "Epoch 2 Step 250, Loss 0.4140092730522156 Accuarcy 0.9375\n",
            "Epoch 2 Step 300, Loss 0.47253552079200745 Accuarcy 0.8125\n",
            "Epoch 2 Step 350, Loss 0.5089864134788513 Accuarcy 0.75\n",
            "Epoch 2 Step 400, Loss 0.6019094586372375 Accuarcy 0.6875\n",
            "Epoch 2 Step 450, Loss 0.4175141155719757 Accuarcy 0.875\n",
            "Epoch 2 Step 500, Loss 0.5147053599357605 Accuarcy 0.8125\n",
            "Epoch 2 Step 550, Loss 0.4840274453163147 Accuarcy 0.8125\n"
          ]
        },
        {
          "output_type": "stream",
          "name": "stderr",
          "text": [
            "Using custom data configuration default\n",
            "Reusing dataset chn_senti_corp (/root/.cache/huggingface/datasets/seamew___chn_senti_corp/default/0.0.0/1f242195a37831906957a11a2985a4329167e60657c07dc95ebe266c03fdfb85)\n",
            "Loading cached processed dataset at /root/.cache/huggingface/datasets/seamew___chn_senti_corp/default/0.0.0/1f242195a37831906957a11a2985a4329167e60657c07dc95ebe266c03fdfb85/cache-04e37f05838e9029.arrow\n"
          ]
        },
        {
          "output_type": "stream",
          "name": "stdout",
          "text": [
            "Epoch 2 Accuarcy 0.8665540540540541\n",
            "Epoch 3 Step 0, Loss 0.3402426242828369 Accuarcy 1.0\n",
            "Epoch 3 Step 50, Loss 0.43492990732192993 Accuarcy 0.875\n",
            "Epoch 3 Step 100, Loss 0.4525097906589508 Accuarcy 0.875\n",
            "Epoch 3 Step 150, Loss 0.3622138798236847 Accuarcy 0.9375\n",
            "Epoch 3 Step 200, Loss 0.49160781502723694 Accuarcy 0.8125\n",
            "Epoch 3 Step 250, Loss 0.5142028331756592 Accuarcy 0.8125\n",
            "Epoch 3 Step 300, Loss 0.45612552762031555 Accuarcy 0.8125\n",
            "Epoch 3 Step 350, Loss 0.3769385516643524 Accuarcy 0.9375\n",
            "Epoch 3 Step 400, Loss 0.45309191942214966 Accuarcy 0.875\n",
            "Epoch 3 Step 450, Loss 0.4848352074623108 Accuarcy 0.8125\n",
            "Epoch 3 Step 500, Loss 0.48708397150039673 Accuarcy 0.8125\n",
            "Epoch 3 Step 550, Loss 0.3610212206840515 Accuarcy 0.9375\n"
          ]
        },
        {
          "output_type": "stream",
          "name": "stderr",
          "text": [
            "Using custom data configuration default\n",
            "Reusing dataset chn_senti_corp (/root/.cache/huggingface/datasets/seamew___chn_senti_corp/default/0.0.0/1f242195a37831906957a11a2985a4329167e60657c07dc95ebe266c03fdfb85)\n",
            "Loading cached processed dataset at /root/.cache/huggingface/datasets/seamew___chn_senti_corp/default/0.0.0/1f242195a37831906957a11a2985a4329167e60657c07dc95ebe266c03fdfb85/cache-04e37f05838e9029.arrow\n"
          ]
        },
        {
          "output_type": "stream",
          "name": "stdout",
          "text": [
            "Epoch 3 Accuarcy 0.8724662162162162\n"
          ]
        }
      ]
    },
    {
      "cell_type": "code",
      "source": [
        ""
      ],
      "metadata": {
        "id": "UgBmAMFTKBwU"
      },
      "execution_count": null,
      "outputs": []
    }
  ]
}